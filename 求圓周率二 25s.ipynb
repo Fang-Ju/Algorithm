{
 "cells": [
  {
   "cell_type": "code",
   "execution_count": 1,
   "id": "60fa1747",
   "metadata": {},
   "outputs": [],
   "source": [
    "import random"
   ]
  },
  {
   "cell_type": "code",
   "execution_count": 2,
   "id": "2596fee3",
   "metadata": {
    "scrolled": true
   },
   "outputs": [
    {
     "name": "stdout",
     "output_type": "stream",
     "text": [
      "Please enter a number:5\n"
     ]
    }
   ],
   "source": [
    "n = int(input(\"Please enter a number:\"))"
   ]
  },
  {
   "cell_type": "markdown",
   "id": "37e90cfb",
   "metadata": {},
   "source": [
    "輸入總灑點個數"
   ]
  },
  {
   "cell_type": "code",
   "execution_count": 3,
   "id": "896025ab",
   "metadata": {},
   "outputs": [],
   "source": [
    "x = []\n",
    "y = []\n",
    "xy = []\n",
    "for i in range(n):\n",
    "    a = 2*random.random()\n",
    "    x.append(a)\n",
    "    b = 2*random.random()\n",
    "    y.append(b)\n",
    "    c = ((x[i]-1)**2 + (y[i]-1)**2)**0.5\n",
    "    if c <= 1:\n",
    "        xy.append((x[i],y[i]))"
   ]
  },
  {
   "cell_type": "markdown",
   "id": "be917339",
   "metadata": {},
   "source": [
    "* 建立座標對應x軸的list\n",
    "* 隨機產生n個0~2之間的數，並添加進x ist"
   ]
  },
  {
   "cell_type": "markdown",
   "id": "1fd26361",
   "metadata": {},
   "source": [
    "* 建立座標對應y軸的list\n",
    "* 隨機產生n個0~2之間的數，並添加進y ist"
   ]
  },
  {
   "cell_type": "markdown",
   "id": "a8279630",
   "metadata": {},
   "source": [
    "* 建立座標 xy=[(x,y)] 的list\n",
    "* 計算每個座標 ((x-1)**2+(y-2)**2)**0.5 的值\n",
    "* 若其值 <= 1 ，將其座標添加至 xy=[(x,y)] 的list\n",
    "* 計算 xy list 有幾筆資料 (即計算有幾個座標至(1,1)的距離 <= 1)，即有幾個座標位於圓內)"
   ]
  },
  {
   "cell_type": "code",
   "execution_count": 10,
   "id": "57af2168",
   "metadata": {},
   "outputs": [
    {
     "data": {
      "text/plain": [
       "1.6"
      ]
     },
     "execution_count": 10,
     "metadata": {},
     "output_type": "execute_result"
    }
   ],
   "source": [
    "circle_area = len(xy) / n * 2*2\n",
    "PI = circle_area / 1*1\n",
    "PI"
   ]
  },
  {
   "cell_type": "markdown",
   "id": "f3e75706",
   "metadata": {},
   "source": [
    "圓面計 約等於 圓內座標個數 / 總個數(方形內) * 方形面積"
   ]
  },
  {
   "cell_type": "markdown",
   "id": "73c79373",
   "metadata": {},
   "source": [
    "半徑平方PI = 圓面積，PI = 圓面積 / 半徑平方\n",
    "### 得圓周率PI"
   ]
  },
  {
   "cell_type": "code",
   "execution_count": null,
   "id": "72eb54a6",
   "metadata": {},
   "outputs": [],
   "source": []
  }
 ],
 "metadata": {
  "kernelspec": {
   "display_name": "Python 3 (ipykernel)",
   "language": "python",
   "name": "python3"
  },
  "language_info": {
   "codemirror_mode": {
    "name": "ipython",
    "version": 3
   },
   "file_extension": ".py",
   "mimetype": "text/x-python",
   "name": "python",
   "nbconvert_exporter": "python",
   "pygments_lexer": "ipython3",
   "version": "3.9.13"
  }
 },
 "nbformat": 4,
 "nbformat_minor": 5
}
