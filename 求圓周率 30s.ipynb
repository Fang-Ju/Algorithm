{
 "cells": [
  {
   "cell_type": "code",
   "execution_count": 1,
   "id": "2596fee3",
   "metadata": {},
   "outputs": [
    {
     "name": "stdout",
     "output_type": "stream",
     "text": [
      "Please enter a number:10000000\n"
     ]
    }
   ],
   "source": [
    "n = int(input(\"Please enter a number:\"))"
   ]
  },
  {
   "cell_type": "markdown",
   "id": "37e90cfb",
   "metadata": {},
   "source": [
    "輸入總灑點個數"
   ]
  },
  {
   "cell_type": "code",
   "execution_count": 2,
   "id": "896025ab",
   "metadata": {},
   "outputs": [],
   "source": [
    "x = []\n",
    "for i in range(n):\n",
    "    import random\n",
    "    i = 2*random.random()\n",
    "    x.append(i)"
   ]
  },
  {
   "cell_type": "markdown",
   "id": "be917339",
   "metadata": {},
   "source": [
    "* 建立座標對應x軸的list\n",
    "* 隨機產生n個0~2之間的數，並添加進x ist"
   ]
  },
  {
   "cell_type": "code",
   "execution_count": 3,
   "id": "7217e21a",
   "metadata": {
    "scrolled": false
   },
   "outputs": [],
   "source": [
    "y = []\n",
    "for j in range(n):\n",
    "    import random\n",
    "    j = 2*random.random()\n",
    "    y.append(j)"
   ]
  },
  {
   "cell_type": "markdown",
   "id": "1fd26361",
   "metadata": {},
   "source": [
    "* 建立座標對應y軸的list\n",
    "* 隨機產生n個0~2之間的數，並添加進y ist"
   ]
  },
  {
   "cell_type": "code",
   "execution_count": 4,
   "id": "d135c905",
   "metadata": {
    "scrolled": true
   },
   "outputs": [
    {
     "data": {
      "text/plain": [
       "7852935"
      ]
     },
     "execution_count": 4,
     "metadata": {},
     "output_type": "execute_result"
    }
   ],
   "source": [
    "xy = []\n",
    "for a in range(n):\n",
    "    b = ((x[a]-1)**2 + (y[a]-1)**2)**0.5\n",
    "    if b <= 1:\n",
    "        xy.append((x[a],y[a]))\n",
    "len(xy)"
   ]
  },
  {
   "cell_type": "markdown",
   "id": "a8279630",
   "metadata": {},
   "source": [
    "* 建立座標 xy=[(x,y)] 的list\n",
    "* 計算每個座標 ((x-1)**2+(y-2)**2)**0.5 的值\n",
    "* 若其值 <= 1 ，將其座標添加至 xy=[(x,y)] 的list\n",
    "* 計算 xy list 有幾筆資料 (即計算有幾個座標至(1,1)的距離 <= 1)，即有幾個座標位於圓內)"
   ]
  },
  {
   "cell_type": "code",
   "execution_count": 5,
   "id": "57af2168",
   "metadata": {},
   "outputs": [
    {
     "data": {
      "text/plain": [
       "3.141174"
      ]
     },
     "execution_count": 5,
     "metadata": {},
     "output_type": "execute_result"
    }
   ],
   "source": [
    "circle_area = len(xy) / n * 2*2\n",
    "circle_area"
   ]
  },
  {
   "cell_type": "markdown",
   "id": "f3e75706",
   "metadata": {},
   "source": [
    "圓面計 約等於 圓內座標個數 / 總個數(方形內) * 方形面積"
   ]
  },
  {
   "cell_type": "code",
   "execution_count": 6,
   "id": "d4d554a1",
   "metadata": {},
   "outputs": [
    {
     "data": {
      "text/plain": [
       "3.141174"
      ]
     },
     "execution_count": 6,
     "metadata": {},
     "output_type": "execute_result"
    }
   ],
   "source": [
    "PI = circle_area / 1*1\n",
    "PI"
   ]
  },
  {
   "cell_type": "markdown",
   "id": "73c79373",
   "metadata": {},
   "source": [
    "半徑平方PI = 圓面積，PI = 圓面積 / 半徑平方\n",
    "### 得圓周率PI"
   ]
  },
  {
   "cell_type": "code",
   "execution_count": null,
   "id": "72eb54a6",
   "metadata": {},
   "outputs": [],
   "source": []
  }
 ],
 "metadata": {
  "kernelspec": {
   "display_name": "Python 3 (ipykernel)",
   "language": "python",
   "name": "python3"
  },
  "language_info": {
   "codemirror_mode": {
    "name": "ipython",
    "version": 3
   },
   "file_extension": ".py",
   "mimetype": "text/x-python",
   "name": "python",
   "nbconvert_exporter": "python",
   "pygments_lexer": "ipython3",
   "version": "3.9.13"
  }
 },
 "nbformat": 4,
 "nbformat_minor": 5
}
