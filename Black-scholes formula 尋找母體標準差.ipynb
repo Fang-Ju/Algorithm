{
 "cells": [
  {
   "cell_type": "markdown",
   "id": "efb83989",
   "metadata": {},
   "source": [
    "### 目標－求假設C值下的母體標準差\n",
    "* 透過Black-scholes公式 (參數: S、K、r、T) 以及樣本標準差，計算結果得報酬率 C \n",
    "* 不斷嘗試帶入>0 的浮點數至樣本標準差計算 (利用二分法計算可大幅減少雲算時間)\n",
    "* 直到計算結果 C 與假設的C值相等，此時帶入的 樣本標準差值 = 假設C值下的母體標準差"
   ]
  },
  {
   "cell_type": "markdown",
   "id": "76818efd",
   "metadata": {},
   "source": [
    "### 公式－Black-scholes formula\n",
    "* C = SN*(d1) - ke ** (-rT)次方 * N(d2)\n",
    "* 其中 d1 = [ ln(S/K) + (r + σ/2) T ] / σ√T ， d2 = d1 - σ√T\n",
    "* N(z) 為標準常態分配之累積累積分配函數 (cdf)"
   ]
  },
  {
   "cell_type": "markdown",
   "id": "dd29da56",
   "metadata": {},
   "source": [
    "### 變數設定\n",
    "* 參數 S、K、r、T = S、K、r、T\n",
    "* 公式 d1、d2、N(d1)、N(d2) = d1、d2、N_d1、N_d2\n",
    "* 樣本標準差： SD_sample\n",
    "* 計算結果市價： C_sample\n",
    "* 母體標準差： SD_population\n",
    "* 假設市價C值： C_population"
   ]
  },
  {
   "cell_type": "code",
   "execution_count": 1,
   "id": "ac260711",
   "metadata": {},
   "outputs": [],
   "source": [
    "# 導入模組\n",
    "\n",
    "import time\n",
    "import random\n",
    "import math\n",
    "from scipy.stats import norm   # 計算cdf norm.cdf(z,loc = 0 ~平均值,scale = 1~標準差) 求cdf\n"
   ]
  },
  {
   "cell_type": "code",
   "execution_count": 2,
   "id": "86e20a44",
   "metadata": {},
   "outputs": [],
   "source": [
    "# 公式撰寫\n",
    "\n",
    "def Black_scholes(SD_sample) :\n",
    "    \n",
    "    S = 1\n",
    "    K = 1\n",
    "    r = 0.1\n",
    "    T = 1\n",
    "    \n",
    "    d1 = (math.log(S/K) + (r + pow(SD_sample,2)/2)*T) / SD_sample*pow(T,0.5)\n",
    "    N_d1 = norm.cdf(d1)\n",
    "    d2 = d1 - SD_sample*pow(T,0.5)\n",
    "    N_d2 = norm.cdf(d2)\n",
    "    C_sample = S*N_d1 - K*math.exp(-r*T)*N_d2\n",
    "    \n",
    "    return C_sample\n"
   ]
  },
  {
   "cell_type": "code",
   "execution_count": 3,
   "id": "48c53a3b",
   "metadata": {},
   "outputs": [
    {
     "name": "stdout",
     "output_type": "stream",
     "text": [
      "請輸入 0 到 0.9999994546826071 之間的數\n",
      "假設市價 C 值：0.5\n"
     ]
    }
   ],
   "source": [
    "N = 10              # 帶入的標準差的最大值\n",
    "a = 1000000         # 0~N 中隨機抽取約 a 個浮點數做運算\n",
    "error = 0.0004       # C 值間的容許誤差\n",
    "C_max = Black_scholes(N)\n",
    "\n",
    "C_population = C_max+1\n",
    "while C_population > C_max :\n",
    "    print('請輸入 0 到',C_max,'之間的數')\n",
    "    C_population = float(input('假設市價 C 值：'))\n",
    "\n"
   ]
  },
  {
   "cell_type": "code",
   "execution_count": 4,
   "id": "da475a01",
   "metadata": {},
   "outputs": [],
   "source": [
    "# 建立 SD_sampledate 的 list，資料為 0~N 間不重複的樣本標準差 SD_sample\n",
    "def SD_sampledate(a) :\n",
    "    \n",
    "    date_set = set()                           # 設計date_set，集合中約有 a 個 0~N 間不重複的浮點數\n",
    "    for i in range(a) :\n",
    "        date_set.add(random.uniform(0, N))\n",
    "\n",
    "    date_list = list(date_set)                 # 將集合轉換成清單list_index\n",
    "    date_list.sort()                           # 排序 (其實可以不用此步驟，已是排序好的)\n",
    "    return date_list\n",
    "\n",
    "\n",
    "\n",
    "#建立 SD_samplelist 清單，資料為 0~N 間不重複的樣本標準差 SD_sample\n",
    "SD_samplelist = SD_sampledate(a)\n",
    "\n"
   ]
  },
  {
   "cell_type": "code",
   "execution_count": 5,
   "id": "4448e0f4",
   "metadata": {},
   "outputs": [
    {
     "name": "stdout",
     "output_type": "stream",
     "text": [
      "起始時間： 1677158975.499702\n",
      "結束時間： 1677158975.7310836\n",
      "執行時間： 0.23138165473937988\n",
      "假設市價為 0.5 的情況下，標準差為 1.267153898837301\n"
     ]
    }
   ],
   "source": [
    "# 二分法\n",
    "\n",
    "list_ans = SD_samplelist[:]          # 輸入二分法需要的變數\n",
    "b = C_population\n",
    "\n",
    "def number_index(b,list_ans) :\n",
    "    \n",
    "    start = time.time()              # 時間計算\n",
    "    print('起始時間：',start)\n",
    "    \n",
    "    count = 0\n",
    "    while b - Black_scholes(list_ans[0]) > error :   # 確認 b 是否和清單中第一個值的運算結果相等，如果若不是則重複做分割清單的動作\n",
    "        len_left = round(len(list_ans)/2+0.1)        # 找出list一半的索引值，若list共有奇數筆資料，將前半部資料設為多數\n",
    "        list_left = list_ans[0:len_left]             # 將list_ans分割成list_left和list_right兩個清單\n",
    "        list_right = list_ans[len_left:]\n",
    "        \n",
    "        if b < Black_scholes(list_right[0]) :        # 判斷 b 是否在前半部分list_left中\n",
    "            list_ans = list_left[:]                  # 若 \"是\" ，將list_left回傳\n",
    "        elif b >= Black_scholes(list_right[0]) :     # 判斷 b 是否在後半部分list_right中\n",
    "            list_ans = list_right[:]                 # 若 \"是\" ，將list_right回傳\n",
    "            count = count + len_left                 # 並累加list_right[0]在原本list_ans中的索引值，即count\n",
    "    \n",
    "    number_index = count                             # 離開迴圈，即 b 為回傳list_ans[0]，list_ans.index(b)為累加的count\n",
    "    \n",
    "    end = time.time()                 # 時間計算\n",
    "    print('結束時間：',end)\n",
    "    print('執行時間：',end - start )\n",
    "    \n",
    "    return number_index                              # 回傳目標在 SD_samplelist 的索引值\n",
    "\n",
    "SD_index = number_index(b,list_ans)\n",
    "SD_population = SD_samplelist[SD_index]\n",
    "print('假設市價為',C_population,'的情況下，標準差為',SD_population)"
   ]
  }
 ],
 "metadata": {
  "kernelspec": {
   "display_name": "Python 3 (ipykernel)",
   "language": "python",
   "name": "python3"
  },
  "language_info": {
   "codemirror_mode": {
    "name": "ipython",
    "version": 3
   },
   "file_extension": ".py",
   "mimetype": "text/x-python",
   "name": "python",
   "nbconvert_exporter": "python",
   "pygments_lexer": "ipython3",
   "version": "3.9.13"
  }
 },
 "nbformat": 4,
 "nbformat_minor": 5
}
