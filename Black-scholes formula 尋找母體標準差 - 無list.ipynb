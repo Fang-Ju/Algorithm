{
 "cells": [
  {
   "cell_type": "markdown",
   "id": "efb83989",
   "metadata": {},
   "source": [
    "### 目標－求假設C值下的母體標準差\n",
    "* 透過Black-scholes公式 (參數: S、K、r、T) 以及樣本標準差，計算結果得報酬率 C \n",
    "* 不斷嘗試帶入>0 的浮點數至樣本標準差計算 (利用二分法計算可大幅減少運算時間)\n",
    "* 直到計算結果 C 與假設的C值相等，此時帶入的 樣本標準差值 = 假設C值下的母體標準差"
   ]
  },
  {
   "cell_type": "markdown",
   "id": "76818efd",
   "metadata": {},
   "source": [
    "### 公式－Black-scholes formula\n",
    "* C = SN*(d1) - ke ** (-rT)次方 * N(d2)\n",
    "* 其中 d1 = [ ln(S/K) + (r + σ/2) T ] / σ√T ， d2 = d1 - σ√T\n",
    "* N(z) 為標準常態分配之累積累積分配函數 (cdf)"
   ]
  },
  {
   "cell_type": "markdown",
   "id": "dd29da56",
   "metadata": {},
   "source": [
    "### 變數設定\n",
    "* 參數 S、K、r、T = S、K、r、T\n",
    "* 公式 d1、d2、N(d1)、N(d2) = d1、d2、N_d1、N_d2\n",
    "* 樣本標準差： SD_sample\n",
    "* 計算結果市價： C_sample\n",
    "* 母體標準差： SD_population\n",
    "* 假設市價C值： C_population"
   ]
  },
  {
   "cell_type": "code",
   "execution_count": 1,
   "id": "ac260711",
   "metadata": {},
   "outputs": [],
   "source": [
    "# 導入模組\n",
    "\n",
    "import time\n",
    "import math\n",
    "from scipy.stats import norm   # 計算cdf norm.cdf(z,loc = 0 ~平均值,scale = 1~標準差) 求cdf\n"
   ]
  },
  {
   "cell_type": "code",
   "execution_count": 2,
   "id": "d558991c",
   "metadata": {},
   "outputs": [],
   "source": [
    "def calculate_call(S, K, r, T, sigma):\n",
    "    d1 = ((math.log(S/K) + (r + pow(sigma,2)/2)*T)) / (sigma*pow(T,0.5))\n",
    "    N_d1 = norm.cdf(d1)\n",
    "    d2 = d1 - sigma*pow(T,0.5)\n",
    "    N_d2 = norm.cdf(d2)\n",
    "    call_value = S*N_d1 - K*math.exp(-r*T)*N_d2\n",
    "    return call_value"
   ]
  },
  {
   "cell_type": "code",
   "execution_count": 3,
   "id": "7200ee94",
   "metadata": {},
   "outputs": [],
   "source": [
    "S = 100\n",
    "K = 110\n",
    "r = 0.05\n",
    "T = 0.25\n",
    "# sigma = 0.2\n",
    "\n",
    "sigma_list = []\n",
    "call_value_list = []\n",
    "for i in range(1000):\n",
    "    sigma = (i+1)/100\n",
    "    call_value = calculate_call(S, K, r, T, sigma)\n",
    "    \n",
    "    sigma_list.append(sigma)\n",
    "    call_value_list.append(call_value)\n",
    "    "
   ]
  },
  {
   "cell_type": "code",
   "execution_count": 4,
   "id": "a8a66ab8",
   "metadata": {},
   "outputs": [
    {
     "data": {
      "text/plain": [
       "<AxesSubplot:>"
      ]
     },
     "execution_count": 4,
     "metadata": {},
     "output_type": "execute_result"
    },
    {
     "data": {
      "image/png": "[encoded data removed]",
      "text/plain": [
       "<Figure size 640x480 with 1 Axes>"
      ]
     },
     "metadata": {},
     "output_type": "display_data"
    }
   ],
   "source": [
    "import pandas as pd\n",
    "series = pd.Series(call_value_list, index=sigma_list)\n",
    "series.plot()"
   ]
  },
  {
   "cell_type": "code",
   "execution_count": 5,
   "id": "ac360d71",
   "metadata": {},
   "outputs": [],
   "source": [
    "def calculate_implied_volatility(call, S, K, r, T, error):\n",
    "    \n",
    "    start = time.time()              # 時間計算\n",
    "    print('起始時間：',start)\n",
    "    \n",
    "    # i、j 為目標 sigma 所在範圍的上下界\n",
    "    i = 0.0001\n",
    "    j = 10\n",
    "    while not (call - calculate_call(S, K, r, T, i))/call < error :  # 確認call與範圍內最小值運算結果之間差值佔call的百分比是否在容許誤差內\n",
    "        \n",
    "        if call < calculate_call(S, K, r, T, (i+j)/2) > error :    # 如果 call 比範圍內中間值的運算結果小\n",
    "            j = (i+j)/2                                            # 則判斷目標在範圍內的前50%\n",
    "        else :                                                     # 如果 call 沒有比範圍內中間值的運算結果小\n",
    "            i = (i+j)/2                                            # 則判斷目標在範圍內的後50%\n",
    "    \n",
    "    sigma = i     # 若 i 的運算結果與 call 比對後在誤差範圍內，i 即是尋找目標 sigma\n",
    "    \n",
    "    end = time.time()                 # 時間計算\n",
    "    print('結束時間：',end)\n",
    "    print('執行時間：',end - start )\n",
    "    \n",
    "    return sigma"
   ]
  },
  {
   "cell_type": "code",
   "execution_count": 6,
   "id": "910ddb47",
   "metadata": {},
   "outputs": [
    {
     "name": "stdout",
     "output_type": "stream",
     "text": [
      "假設的 call 值：0.5\n",
      "起始時間： 1677172326.5445397\n",
      "結束時間： 1677172326.580444\n",
      "執行時間： 0.0359044075012207\n",
      "假設call為 0.5 的情況下，sigma為 0.14715212882161138\n"
     ]
    }
   ],
   "source": [
    "error = 0.00001   # 可容許誤差率\n",
    "S = 100\n",
    "K = 110\n",
    "r = 0.05\n",
    "T = 0.25\n",
    "call = float(input('假設的 call 值：'))\n",
    "sigma_target = calculate_implied_volatility(call, S, K, r, T, error)\n",
    "print('假設call為',call,'的情況下，sigma為',sigma_target)"
   ]
  },
  {
   "cell_type": "code",
   "execution_count": 7,
   "id": "c91d148f",
   "metadata": {},
   "outputs": [
    {
     "name": "stdout",
     "output_type": "stream",
     "text": [
      "0.49999947323897587\n"
     ]
    }
   ],
   "source": [
    "S = 100\n",
    "K = 110\n",
    "r = 0.05\n",
    "T = 0.25\n",
    "sigma = sigma_target\n",
    "print(calculate_call(S, K, r, T, sigma))"
   ]
  },
  {
   "cell_type": "markdown",
   "id": "87c57fff",
   "metadata": {},
   "source": [
    "# 公式撰寫\n",
    "\n",
    "def Black_scholes(SD_sample) :\n",
    "    \n",
    "    S = 100\n",
    "    K = 110\n",
    "    r = 0.05\n",
    "    T = 0.25\n",
    "    \n",
    "    d1 = (math.log(S/K) + (r + SD_sample**2/2)*T) / (SD_sample*pow(T,0.5))\n",
    "    N_d1 = norm.cdf(d1)\n",
    "    d2 = d1 - SD_sample*pow(T,0.5)\n",
    "    N_d2 = norm.cdf(d2)\n",
    "    C_sample = S*N_d1 - K*math.exp(-r*T)*N_d2\n",
    "    \n",
    "    return C_sample\n"
   ]
  },
  {
   "cell_type": "code",
   "execution_count": 8,
   "id": "8b3e04ba",
   "metadata": {},
   "outputs": [],
   "source": [
    "# N = 10              # 帶入的標準差的最大值\n",
    "# error = 0.0004      # C 值間的容許誤差\n",
    "\n",
    "# C_max = Black_scholes(N)\n",
    "# C_population = C_max+1\n",
    "# while C_population > C_max :\n",
    "#    print('請輸入 0 到',C_max,'之間的數')\n",
    "#    C_population = float(input('假設市價 C 值：'))\n"
   ]
  },
  {
   "cell_type": "markdown",
   "id": "3eac6fe8",
   "metadata": {},
   "source": [
    "# 二分法\n",
    "\n",
    "def SD(C_population) :\n",
    "    \n",
    "    start = time.time()              # 時間計算\n",
    "    print('起始時間：',start)\n",
    "    \n",
    "    i = 0.00001\n",
    "    j = N\n",
    "    \n",
    "    while C_population - Black_scholes(i) > error :   # 確認 C_population 與範圍內最小值的運算結果是否相等\n",
    "        \n",
    "        if C_population < Black_scholes((i+j)/2) :    # 如果 C_population 比範圍內中間值的運算結果小\n",
    "            j = (i+j)/2                               # 則判斷目標在範圍內的前50%\n",
    "        else :                                        # 如果 C_population 沒有比範圍內中間值的運算結果小\n",
    "            i = (i+j)/2                               # 則判斷目標在範圍內的後50%\n",
    "        \n",
    "    end = time.time()                 # 時間計算\n",
    "    print('結束時間：',end)\n",
    "    print('執行時間：',end - start )\n",
    "    \n",
    "    \n",
    "    # 若 i 的運算結果與 C_population 比對後在誤差範圍內，i 即是尋找目標 SD_sample\n",
    "    return i                          # 回傳 i\n",
    "\n",
    "* ans_SD_sample = SD(C_population)\n",
    "* SD_population = ans_SD_sample\n",
    "* print('假設市價為',C_population,'的情況下，標準差為',SD_population)"
   ]
  },
  {
   "cell_type": "markdown",
   "id": "b804196c",
   "metadata": {},
   "source": [
    "## 出圖教學"
   ]
  },
  {
   "cell_type": "markdown",
   "id": "0eb505d1",
   "metadata": {},
   "source": [
    "import pandas as pd"
   ]
  },
  {
   "cell_type": "markdown",
   "id": "35774024",
   "metadata": {},
   "source": [
    "series = pd.Series([1,2,3,4,5], index=[10,20,30,40,50])\n",
    "series.plot()"
   ]
  }
 ],
 "metadata": {
  "kernelspec": {
   "display_name": "Python 3 (ipykernel)",
   "language": "python",
   "name": "python3"
  },
  "language_info": {
   "codemirror_mode": {
    "name": "ipython",
    "version": 3
   },
   "file_extension": ".py",
   "mimetype": "text/x-python",
   "name": "python",
   "nbconvert_exporter": "python",
   "pygments_lexer": "ipython3",
   "version": "3.9.13"
  }
 },
 "nbformat": 4,
 "nbformat_minor": 5
}
