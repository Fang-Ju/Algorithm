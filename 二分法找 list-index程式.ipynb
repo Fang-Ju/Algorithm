{
 "cells": [
  {
   "cell_type": "code",
   "execution_count": 1,
   "id": "046be338",
   "metadata": {},
   "outputs": [],
   "source": [
    "import random\n",
    "import math\n",
    "import time"
   ]
  },
  {
   "cell_type": "markdown",
   "id": "00317d31",
   "metadata": {},
   "source": [
    "### 題目設計"
   ]
  },
  {
   "cell_type": "code",
   "execution_count": 2,
   "id": "5a6b3e0d",
   "metadata": {},
   "outputs": [],
   "source": [
    "def Q(a,b) :\n",
    "\n",
    "    list_index_set = set()                           # 設計list_index_set，集合中有a個0~10000不重複的整數\n",
    "    for i in range(a) :\n",
    "        list_index_set.add(random.randint(0,10000))\n",
    "\n",
    "    list_index_set.add(b)                            # 添加指定要尋找索引的數值 b\n",
    "    list_index = list(list_index_set )               # 將集合轉換成清單list_index\n",
    "    list_index.sort()                                # 排序 (其實可以不用此步驟，已是排序好的)\n",
    "    return list_index"
   ]
  },
  {
   "cell_type": "code",
   "execution_count": 3,
   "id": "2a107a8b",
   "metadata": {},
   "outputs": [
    {
     "name": "stdout",
     "output_type": "stream",
     "text": [
      "請輸入 0~10000 中的整數\n",
      "請問要設計約多少筆資料的list：999\n",
      "請問要尋找索引的數值為何：456\n",
      "問題：請找出list_index中 456 的索引為何？\n"
     ]
    }
   ],
   "source": [
    "print('請輸入 0~10000 中的整數')\n",
    "a = int(input('請問要設計約多少筆資料的list：'))       # 此為清單中的資料數量\n",
    "b = int(input('請問要尋找索引的數值為何：'))           # 此為要尋找索引的數值\n",
    "list_index = Q(a,b)\n",
    "\n",
    "print('問題：請找出list_index中',b,'的索引為何？')"
   ]
  },
  {
   "cell_type": "markdown",
   "id": "016a3c01",
   "metadata": {},
   "source": [
    "### index程式"
   ]
  },
  {
   "cell_type": "code",
   "execution_count": 4,
   "id": "ea6df2a2",
   "metadata": {},
   "outputs": [],
   "source": [
    "list_ans = list_index[:]                             # 利用list_ans運算，不改變list_index原有資料"
   ]
  },
  {
   "cell_type": "code",
   "execution_count": 5,
   "id": "7d953c1d",
   "metadata": {},
   "outputs": [
    {
     "name": "stdout",
     "output_type": "stream",
     "text": [
      "1676965955.1121018\n",
      "1676965955.1130953\n",
      "執行時間： 0.000993490219116211\n",
      "456 在清單list_index中的索引為值 31\n"
     ]
    }
   ],
   "source": [
    "def number_index(b,list_ans) :\n",
    "    \n",
    "    start = time.time()\n",
    "    print(start)\n",
    "    \n",
    "    count = 0\n",
    "    while b != list_ans[0] :                         # 確認 b 是否為所在清單中的第一個值，如果若不是則重複做分割清單的動作\n",
    "        len_left = round(len(list_ans)/2+0.1)        # 找出list一半的索引值，若list共有奇數筆資料，將前半部資料設為多數\n",
    "        list_left = list_ans[0:len_left]             # 將list_ans分割成list_left和list_right兩個清單\n",
    "        list_right = list_ans[len_left:]\n",
    "        \n",
    "        if b < list_right[0] :                       # 判斷 b 是否在前半部分list_left中\n",
    "            list_ans = list_left[:]                  # 若 \"是\" ，將list_left回傳\n",
    "        elif b >= list_right[0] :                    # 判斷 b 是否在後半部分list_right中\n",
    "            list_ans = list_right[:]                 # 若 \"是\" ，將list_right回傳\n",
    "            count = count + len_left                 # 並累加list_right[0]在原本list_ans中的索引值，即count\n",
    "    \n",
    "    number_index = count                             # 離開迴圈，即 b 為回傳list_ans[0]，list_ans.index(b)為累加的count\n",
    "    \n",
    "    end = time.time()\n",
    "    print(end)\n",
    "    print('執行時間：',end - start )\n",
    "    \n",
    "    return number_index                              # 回傳list_ans.index(b)\n",
    "\n",
    "\n",
    "ans = number_index(b,list_ans)\n",
    "print(b,'在清單list_index中的索引為值',ans)"
   ]
  },
  {
   "cell_type": "code",
   "execution_count": 6,
   "id": "fea26e3d",
   "metadata": {},
   "outputs": [
    {
     "name": "stdout",
     "output_type": "stream",
     "text": [
      "答案正確\n"
     ]
    }
   ],
   "source": [
    "# 驗證ans是否正確\n",
    "\n",
    "if list_index.index(b) == ans :\n",
    "    print('答案正確')\n",
    "else :\n",
    "    print('答案錯誤')"
   ]
  },
  {
   "cell_type": "markdown",
   "id": "e71b905a",
   "metadata": {},
   "source": [
    "......"
   ]
  },
  {
   "cell_type": "markdown",
   "id": "778ef4bb",
   "metadata": {},
   "source": [
    "# 未用函式包裝\n",
    "\n",
    "count = 0\n",
    "while b != list_ans[0] :                         # 確認 b 是否為所在清單中的第一個值，如果若不是則重複做分割清單的動作\n",
    "    \n",
    "    len_left = round(len(list_ans)/2+0.1)        # 找出list一半的索引值，若list共有奇數筆資料，將前半部資料設為多數    \n",
    "    list_left = list_ans[0:len_left]             # 將list_index分割成list_left和list_right兩個清單\n",
    "    list_right = list_ans[len_left:]\n",
    "    \n",
    "    if b < list_right[0] :\n",
    "        list_ans = list_left\n",
    "    elif b >= list_right[0] :\n",
    "        list_ans = list_right\n",
    "        count = count + len_left\n",
    "    \n",
    "ans = count\n",
    "print(b,'在清單list_index中的索引為值',ans)"
   ]
  },
  {
   "cell_type": "markdown",
   "id": "c92edba4",
   "metadata": {},
   "source": [
    "......"
   ]
  },
  {
   "cell_type": "markdown",
   "id": "253aadd9",
   "metadata": {},
   "source": [
    "    if len_left < 1 :                            # (不確定會不會有此情況，該不該留? )\n",
    "        print('發生錯誤')\n",
    "        break"
   ]
  },
  {
   "cell_type": "markdown",
   "id": "078acbf4",
   "metadata": {},
   "source": [
    "lista = [1,2,3,4,5,6,7,8,9,10]"
   ]
  },
  {
   "cell_type": "markdown",
   "id": "5eca83e9",
   "metadata": {},
   "source": [
    "# 切一半\n",
    "lista = [1,2,3,4,5,6,7,8,9,10]\n",
    "list1 = []\n",
    "list2 = lista[:]\n",
    "n1 = len(list2)/2\n",
    "n2 = round(n1+0.1)\n",
    "print(n1)\n",
    "print(n2)\n",
    "for i in range(n2) :\n",
    "    list1.append(list2.pop(0))\n",
    "    \n",
    "print(list2)\n",
    "print(lista)"
   ]
  },
  {
   "cell_type": "markdown",
   "id": "95cff405",
   "metadata": {},
   "source": [
    "z = 7\n",
    "lista = [1,2,3,4,5,6,7,8,9]\n",
    "len_f = round(len(lista)/2+0.1)\n",
    "listb = lista[0:len_f]\n",
    "listc = lista[len_f:]\n",
    "print(listb)\n",
    "listc"
   ]
  }
 ],
 "metadata": {
  "kernelspec": {
   "display_name": "Python 3 (ipykernel)",
   "language": "python",
   "name": "python3"
  },
  "language_info": {
   "codemirror_mode": {
    "name": "ipython",
    "version": 3
   },
   "file_extension": ".py",
   "mimetype": "text/x-python",
   "name": "python",
   "nbconvert_exporter": "python",
   "pygments_lexer": "ipython3",
   "version": "3.9.13"
  }
 },
 "nbformat": 4,
 "nbformat_minor": 5
}
